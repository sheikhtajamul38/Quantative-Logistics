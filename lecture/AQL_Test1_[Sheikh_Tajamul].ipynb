{
  "nbformat": 4,
  "nbformat_minor": 0,
  "metadata": {
    "colab": {
      "provenance": []
    },
    "kernelspec": {
      "name": "python3",
      "display_name": "Python 3"
    },
    "language_info": {
      "name": "python"
    }
  },
  "cells": [
    {
      "cell_type": "code",
      "execution_count": 19,
      "metadata": {
        "colab": {
          "base_uri": "https://localhost:8080/",
          "height": 470
        },
        "id": "s50P_eT7Xn5v",
        "outputId": "1e711279-a6bc-4f72-dd1c-c9edba73dde0"
      },
      "outputs": [
        {
          "output_type": "stream",
          "name": "stdout",
          "text": [
            "X3 should be located at: (0.55, 0.425)\n",
            "Number of customers at X3: 34\n"
          ]
        },
        {
          "output_type": "display_data",
          "data": {
            "text/plain": [
              "<Figure size 640x480 with 1 Axes>"
            ],
            "image/png": "[encoded data removed]"
          },
          "metadata": {}
        }
      ],
      "source": [
        "import math\n",
        "import matplotlib.pyplot as plt\n",
        "\n",
        "def map_customers(X1,X2,N):\n",
        "  midpoint = ((X1[0]+X2[0])/2, (X1[1]+X2[1])/2)\n",
        "  dist = math.sqrt((X1[0]-X2[0])**2 + (X1[1]-X2[1])**2)\n",
        "  rad = dist/2\n",
        "  max_customers = -1\n",
        "  max_X3 = None\n",
        "  #all potential positions for X3\n",
        "  for i in range(N):\n",
        "      for j in range(N):\n",
        "          X3 = (i/N, j/N)\n",
        "          #distance between X3 and the midpoint of X1 and X2\n",
        "          d = math.sqrt((X3[0]-midpoint[0])**2 + (X3[1]-midpoint[1])**2)\n",
        "          #number of customers that X3 would have\n",
        "          customers = 0\n",
        "          if d <= rad:\n",
        "              customers = N - N/2*math.sqrt((midpoint[0]-X3[0])**2 + (midpoint[1]-X3[1])**2)\n",
        "          #number of customers at X1 and X2\n",
        "          customers_at_X1 = N - N/2*math.sqrt((X1[0]-midpoint[0])**2 + (X1[1]-midpoint[1])**2)\n",
        "          customers_at_X2 = N - N/2*math.sqrt((X2[0]-midpoint[0])**2 + (X2[1]-midpoint[1])**2)\n",
        "          #check if X3 has more customers than X1 or X2\n",
        "          if customers > max(customers_at_X1, customers_at_X2):\n",
        "              max_customers = round(customers)\n",
        "              max_X3 = X3\n",
        "  return max_X3, max_customers, customers_at_X1, customers_at_X2\n",
        "\n",
        "\n",
        "X1 = (0.3, 0.7)  \n",
        "X2 = (0.2, 0.1)\n",
        "N = 40  #creating a map of 40x40 grid\n",
        "X3 = map_customers(X1,X2,N)\n",
        "\n",
        "print(\"X3 should be located at:\", X3[0]) #position of X3\n",
        "print(\"Number of customers at X3:\", X3[1])\n",
        "\n",
        "#plot X1, X2, and X3\n",
        "plt.scatter(X1[0], X1[1], s=X3[2]*10, color='red')\n",
        "plt.scatter(X2[0], X2[1], s=X3[3]*10, color='green')\n",
        "plt.scatter(X3[0][0], X3[0][1], s=X3[1]*10, color='blue')\n",
        "plt.xlim([0,1])\n",
        "plt.ylim([0,1])\n",
        "plt.show()\n"
      ]
    },
    {
      "cell_type": "code",
      "source": [],
      "metadata": {
        "id": "DhS1SgMvZ1NH"
      },
      "execution_count": null,
      "outputs": []
    }
  ]
}