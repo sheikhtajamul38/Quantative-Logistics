{
  "cells": [
    {
      "cell_type": "code",
      "execution_count": 10,
      "metadata": {
        "colab": {
          "base_uri": "https://localhost:8080/",
          "height": 819
        },
        "id": "xB5oSxlU36UK",
        "outputId": "00fc72fb-a05e-42b5-a396-164f2da2e2b7"
      },
      "outputs": [
        {
          "name": "stdout",
          "output_type": "stream",
          "text": [
            "Generation: 10 Fitness: 19\n",
            "[ 3  7  4 10  1]\n",
            "Generation: 20 Fitness: 19\n",
            "[ 3  7  4 10  1]\n",
            "Generation: 30 Fitness: 19\n",
            "[ 3  7  4 10  1]\n",
            "Generation: 40 Fitness: 19\n",
            "[ 3  7  4 10  1]\n",
            "Generation: 50 Fitness: 19\n",
            "[ 3  7  4 10  1]\n",
            "Generation: 60 Fitness: 19\n",
            "[ 3  7  4 10  1]\n",
            "Generation: 70 Fitness: 21\n",
            "[10  7  0  7  1]\n",
            "Generation: 80 Fitness: 21\n",
            "[10  7  0  7  1]\n",
            "Generation: 90 Fitness: 21\n",
            "[10  7  0  7  1]\n",
            "Generation: 100 Fitness: 21\n",
            "[10  7  0  7  1]\n"
          ]
        },
        {
          "data": {
            "image/png": "[encoded data removed]",
            "text/plain": [
              "<Figure size 640x480 with 1 Axes>"
            ]
          },
          "metadata": {},
          "output_type": "display_data"
        }
      ],
      "source": [
        "import numpy as np\n",
        "import matplotlib.pyplot as plt\n",
        "import random\n",
        "\n",
        "# Define genetic algorithm parameters\n",
        "\n",
        "psize = 100     #population\n",
        "mr = 0.01      #mutation rate\n",
        "ngen = 100      #generations\n",
        "\n",
        "# Define problem-specific parameters\n",
        "\n",
        "\n",
        "features= 5\n",
        "n_customers = 26\n",
        "data = [[7, 9, 3, 10, 9],\n",
        "        [5, 0, 0, 10, 2],\n",
        "        [5, 4, 4, 4, 4],\n",
        "        [7, 1, 7, 8, 3],\n",
        "        [0, 1, 4, 4, 1],\n",
        "        [10, 6, 10, 4, 5],\n",
        "        [8, 1, 7, 9, 0],\n",
        "        [6, 2, 5, 0, 1],\n",
        "        [2, 0, 2, 6, 2],\n",
        "        [4, 6, 1, 5, 0],\n",
        "        [7, 5, 0, 10, 7],\n",
        "        [3, 10, 4, 8, 2],\n",
        "        [7, 0, 2, 1, 2],\n",
        "        [7, 0, 4, 0, 10],\n",
        "        [2, 2, 0, 4, 4],\n",
        "        [7, 6, 2, 9, 9],\n",
        "        [7, 7, 8, 6, 9],\n",
        "        [8, 7, 8, 6, 0],\n",
        "        [3, 7, 1, 8, 1],\n",
        "        [2, 2, 8, 6, 3],\n",
        "        [0, 2, 0, 3, 8],\n",
        "        [5, 1, 8, 6, 8],\n",
        "        [5, 2, 5, 9, 4],\n",
        "        [4, 4, 5, 4, 7],\n",
        "        [3, 10, 0, 1, 0],\n",
        "        [4, 5, 7, 0, 1]]\n",
        "\n",
        "\n",
        "def fitness(array):\n",
        "    expected_customers = (array >= data).sum(axis=1)\n",
        "    return (expected_customers >= 3).sum()   #checking if the sum of generated array is >= 3\n",
        "\n",
        "\n",
        "def selection(population, fitnesses):\n",
        "    total_fitness = sum(fitnesses)\n",
        "    probabilities = [f/total_fitness for f in fitnesses]\n",
        "    return random.choices(population, weights=probabilities, k=2)\n",
        "\n",
        "\n",
        "def crossover(parent1, parent2):\n",
        "    child = np.empty_like(parent1)\n",
        "    for i in range(features):\n",
        "        if random.random() < 0.7:\n",
        "            child[i] = parent1[i]\n",
        "        else:\n",
        "            child[i] = parent2[i]\n",
        "    return child\n",
        "\n",
        "def mutation(array):\n",
        "    for i in range(features):\n",
        "        if random.random() < mr:\n",
        "            array[i] = random.randint(0, n_customers-1)\n",
        "    return array\n",
        "\n",
        "# Initialize population\n",
        "population = [np.random.randint(0, n_customers, features) for i in range(psize)] \n",
        "\n",
        "offspring = []\n",
        "\n",
        "fitnesses_over_time = []\n",
        "\n",
        "# Evolution loop\n",
        "for generation in range(ngen):\n",
        "    fitnesses = [fitness(array) for array in population]\n",
        "    parents = [selection(population, fitnesses) for i in range(psize//2)]\n",
        "    \n",
        "    for parent1, parent2 in parents:\n",
        "      child1 = crossover(parent1, parent2)\n",
        "      child2 = crossover(parent1, parent2)\n",
        "      child1 = mutation(child1)\n",
        "      child2 = mutation(child2)\n",
        "      while child1.sum() > 25:\n",
        "        index = np.random.randint(0, features)\n",
        "        child1[index] = np.random.randint(0, n_customers)\n",
        "      while child2.sum() > 25:\n",
        "          index = np.random.randint(0, features)\n",
        "          child2[index] = np.random.randint(0, n_customers)\n",
        "    \n",
        "    offspring.append(child1)\n",
        "    offspring.append(child2)\n",
        "    population = offspring\n",
        "    best_array = population[np.argmax(fitnesses)]\n",
        "    if (generation+1) % 10 == 0:\n",
        "        print(\"Generation:\", generation+1, \"Fitness:\", max(fitnesses))\n",
        "        print(best_array)\n",
        "    fitnesses_over_time.append(max(fitnesses))\n",
        "# Plot the fitness over time\n",
        "plt.plot(range(1, ngen+1), fitnesses_over_time)\n",
        "plt.xlabel('Generation')\n",
        "plt.ylabel('Fitness')\n",
        "plt.title('Fitness vs. Generation')\n",
        "plt.show()"
      ]
    },
    {
      "cell_type": "code",
      "execution_count": null,
      "metadata": {
        "id": "Y75jIc5fGneL"
      },
      "outputs": [],
      "source": []
    }
  ],
  "metadata": {
    "colab": {
      "provenance": []
    },
    "kernelspec": {
      "display_name": "base",
      "language": "python",
      "name": "python3"
    },
    "language_info": {
      "codemirror_mode": {
        "name": "ipython",
        "version": 3
      },
      "file_extension": ".py",
      "mimetype": "text/x-python",
      "name": "python",
      "nbconvert_exporter": "python",
      "pygments_lexer": "ipython3",
      "version": "3.8.8"
    },
    "vscode": {
      "interpreter": {
        "hash": "88279d2366fe020547cde40dd65aa0e3aa662a6ec1f3ca12d88834876c85e1a6"
      }
    }
  },
  "nbformat": 4,
  "nbformat_minor": 0
}
