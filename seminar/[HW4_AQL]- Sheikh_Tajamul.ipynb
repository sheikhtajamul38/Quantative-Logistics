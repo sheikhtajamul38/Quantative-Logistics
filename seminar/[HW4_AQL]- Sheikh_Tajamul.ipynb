{
 "cells": [
  {
   "cell_type": "markdown",
   "id": "7d5388ab",
   "metadata": {},
   "source": [
    "# Semianr 7 - Applied Quantitative Logistics"
   ]
  },
  {
   "cell_type": "code",
   "execution_count": 68,
   "id": "fd8d2662",
   "metadata": {},
   "outputs": [],
   "source": [
    "import numpy as np\n",
    "import math\n",
    "import matplotlib.pyplot as plt\n",
    "import random\n"
   ]
  },
  {
   "cell_type": "markdown",
   "id": "15fe3b2b",
   "metadata": {},
   "source": [
    "## Traveling Salesman Problem"
   ]
  },
  {
   "cell_type": "code",
   "execution_count": 69,
   "id": "3d0f2568",
   "metadata": {},
   "outputs": [],
   "source": [
    "# list(np.random.permutation(15))"
   ]
  },
  {
   "cell_type": "code",
   "execution_count": 70,
   "id": "617ac8b1",
   "metadata": {},
   "outputs": [],
   "source": [
    "# list(np.random.randint(0, 100, 15))"
   ]
  },
  {
   "cell_type": "code",
   "execution_count": 71,
   "id": "e6e1f254",
   "metadata": {},
   "outputs": [],
   "source": [
    "# list(np.random.randint(0, 100, 15))"
   ]
  },
  {
   "cell_type": "code",
   "execution_count": 72,
   "id": "e12d2b40",
   "metadata": {},
   "outputs": [],
   "source": [
    "def tsp():\n",
    "    \n",
    "    x = [24, 74, 83, 53, 7, 96, 10, 33, 53, 92, 13, 35, 97, 90, 97]\n",
    "    y = [77, 91, 60, 4, 93, 18, 18, 20, 89, 79, 62, 32, 65, 11, 62]\n",
    "    \n",
    "    n = len(x)\n",
    "    \n",
    "    d = np.zeros([n, n])\n",
    "    \n",
    "    for i in range(0, n-1):\n",
    "        for j in range(i+1, n):\n",
    "            d[i][j] = math.sqrt((x[i] - x[j])**2 + (y[i]-y[j])**2)\n",
    "            d[j][i] = d[i][j]\n",
    "            \n",
    "    xmin = 0\n",
    "    xmax = 100\n",
    "    \n",
    "    ymin = 0\n",
    "    ymax = 100\n",
    "    \n",
    "    model = {'n': n,\n",
    "            'x': x,\n",
    "            'y': y,\n",
    "            'd': d,\n",
    "            'xmin': xmin,\n",
    "            'xmax': xmax,\n",
    "            'ymin': ymin,\n",
    "            'ymax': ymax}\n",
    "        \n",
    "    return model"
   ]
  },
  {
   "cell_type": "code",
   "execution_count": 73,
   "id": "feac6a88",
   "metadata": {},
   "outputs": [],
   "source": [
    "model = tsp()"
   ]
  },
  {
   "cell_type": "markdown",
   "id": "77b72fbb",
   "metadata": {},
   "source": [
    "### Create Random Solution"
   ]
  },
  {
   "cell_type": "code",
   "execution_count": 74,
   "id": "69b83ffe",
   "metadata": {},
   "outputs": [],
   "source": [
    "def createRandomSolution(model):\n",
    "    n = model['n']\n",
    "    sol = list(np.random.permutation(n))\n",
    "    return sol"
   ]
  },
  {
   "cell_type": "code",
   "execution_count": 75,
   "id": "03035017",
   "metadata": {},
   "outputs": [],
   "source": [
    "# sol = createRandomSolution(model)\n",
    "# sol"
   ]
  },
  {
   "cell_type": "markdown",
   "id": "ba382f8b",
   "metadata": {},
   "source": [
    "### Calculating the Length - Cost Function"
   ]
  },
  {
   "cell_type": "code",
   "execution_count": 76,
   "id": "ff004008",
   "metadata": {},
   "outputs": [],
   "source": [
    "def TourLength(tour, model):\n",
    "    n = model['n']\n",
    "\n",
    "    tour.append(tour[0])\n",
    "\n",
    "    L = 0\n",
    "\n",
    "    for k in range(0, n):\n",
    "        i = tour[k]\n",
    "        j = tour[k+1]\n",
    "\n",
    "        L = L + model['d'][i][j]\n",
    "\n",
    "    if L == 0:\n",
    "        return 1e9\n",
    "    else:\n",
    "        return L\n"
   ]
  },
  {
   "cell_type": "markdown",
   "id": "7d211349",
   "metadata": {},
   "source": [
    "### Roulette Wheele Selection"
   ]
  },
  {
   "cell_type": "code",
   "execution_count": 77,
   "id": "bede57fc",
   "metadata": {},
   "outputs": [],
   "source": [
    "def rouletteWheelSelection(p):\n",
    "    r = random.random()\n",
    "    \n",
    "    c = np.cumsum(p)\n",
    "    \n",
    "    indexes = [\n",
    "        index for index in range(len(c))\n",
    "        if c[index] > r\n",
    "    ]\n",
    "    \n",
    "    return indexes[0]"
   ]
  },
  {
   "cell_type": "markdown",
   "id": "2c2cf8e4",
   "metadata": {},
   "source": [
    "# HW4 - Applied Quantitative Logistics\n",
    "\n",
    "Implement 3 Mutation methods which we discussed during the seminar for problems with permutation:\n",
    "\n",
    "1) Swap Mutation\n",
    "\n",
    "2) Reversion Mutation\n",
    "\n",
    "3) Insertion (Removing and inserting in a new place)\n",
    "\n",
    "4) Create a function for selecting each mutation randomly by the roulette wheel approach\n",
    "\n",
    "5) Use a Genetic Algorithm to solve this problem (For simplicity just put the probability of crossover equal to 0 - which means we don't use crossover)\n",
    "\n",
    "6) Print all best costs with iterations and plot the result based on iteration (Not NFE)\n",
    "\n",
    "\n",
    "Instruction for submission:\n",
    "\n",
    "- Please submit your solutions in (.ipynb) format to my email (msohrabi@hse.ru).\n",
    "\n",
    "- Deadline: **April 13, 2023, 11:59 pm.**\n",
    "\n",
    "- The subject of the email and file name: **[HW4_AQL]-YOUR_NAME**"
   ]
  },
  {
   "cell_type": "code",
   "execution_count": null,
   "id": "032ad316",
   "metadata": {},
   "outputs": [],
   "source": []
  },
  {
   "cell_type": "markdown",
   "id": "1db772d1",
   "metadata": {},
   "source": [
    "### Mutation"
   ]
  },
  {
   "cell_type": "code",
   "execution_count": 78,
   "id": "da5583b3",
   "metadata": {},
   "outputs": [],
   "source": [
    "def swapMutation(sol):\n",
    "    i = random.randint(0, len(sol) - 1)\n",
    "    j = random.randint(0, len(sol) - 1)\n",
    "    sol[i], sol[j] = sol[j], sol[i]\n",
    "    return sol\n"
   ]
  },
  {
   "cell_type": "code",
   "execution_count": 79,
   "id": "ec59efc0",
   "metadata": {},
   "outputs": [],
   "source": [
    "def reversionMutation(sol):\n",
    "    i = random.randint(0, len(sol) - 1)\n",
    "    j = random.randint(0, len(sol) - 1)\n",
    "    if i > j:\n",
    "        i, j = j, i\n",
    "    sol[i:j+1] = sol[i:j+1][::-1]\n",
    "    return sol\n",
    "\n",
    "\n"
   ]
  },
  {
   "cell_type": "code",
   "execution_count": 80,
   "id": "4792e261",
   "metadata": {},
   "outputs": [],
   "source": [
    "def insertionMutation(sol):\n",
    "    i = random.randint(0, len(sol) - 1)\n",
    "    j = random.randint(0, len(sol) - 1)\n",
    "    if i != j:\n",
    "        if i > j:\n",
    "            i, j = j, i\n",
    "        c = sol.pop(i)\n",
    "        sol.insert(j, c)\n",
    "    return sol"
   ]
  },
  {
   "cell_type": "markdown",
   "id": "638699bb",
   "metadata": {},
   "source": [
    "## Genetic Algorithm (GA)"
   ]
  },
  {
   "cell_type": "code",
   "execution_count": 81,
   "id": "0ba70400",
   "metadata": {},
   "outputs": [
    {
     "name": "stdout",
     "output_type": "stream",
     "text": [
      "Iteration 1: Best cost = 656.7985641371409\n",
      "Iteration 2: Best cost = 602.3871363977016\n",
      "Iteration 3: Best cost = 500.57367494331544\n",
      "Iteration 4: Best cost = 467.57217328514616\n",
      "Iteration 5: Best cost = 467.57217328514616\n",
      "Iteration 6: Best cost = 396.6465412674127\n",
      "Iteration 7: Best cost = 269.587499873264\n",
      "Iteration 8: Best cost = 269.587499873264\n",
      "Iteration 9: Best cost = 269.587499873264\n",
      "Iteration 10: Best cost = 195.46795039929785\n",
      "Iteration 11: Best cost = 195.46795039929785\n",
      "Iteration 12: Best cost = 195.46795039929785\n",
      "Iteration 13: Best cost = 158.44794795766555\n",
      "Iteration 14: Best cost = 158.44794795766555\n",
      "Iteration 15: Best cost = 134.83262746824272\n",
      "Iteration 16: Best cost = 84.21995013059554\n",
      "Iteration 17: Best cost = 42.04759208325728\n",
      "Iteration 18: Best cost = 29.732137494637012\n",
      "Iteration 19: Best cost = 29.732137494637012\n",
      "Iteration 20: Best cost = 14.866068747318506\n",
      "Iteration 21: Best cost = 14.866068747318506\n",
      "Iteration 22: Best cost = 14.866068747318506\n",
      "Iteration 23: Best cost = 14.866068747318506\n",
      "Iteration 24: Best cost = 14.866068747318506\n",
      "Iteration 25: Best cost = 14.866068747318506\n",
      "Iteration 26: Best cost = 14.866068747318506\n",
      "Iteration 27: Best cost = 14.866068747318506\n",
      "Iteration 28: Best cost = 14.866068747318506\n",
      "Iteration 29: Best cost = 14.866068747318506\n",
      "Iteration 30: Best cost = 14.866068747318506\n",
      "Iteration 31: Best cost = 14.866068747318506\n",
      "Iteration 32: Best cost = 14.866068747318506\n",
      "Iteration 33: Best cost = 14.866068747318506\n",
      "Iteration 34: Best cost = 14.866068747318506\n",
      "Iteration 35: Best cost = 14.866068747318506\n",
      "Iteration 36: Best cost = 14.866068747318506\n",
      "Iteration 37: Best cost = 14.866068747318506\n",
      "Iteration 38: Best cost = 14.866068747318506\n",
      "Iteration 39: Best cost = 14.866068747318506\n",
      "Iteration 40: Best cost = 14.866068747318506\n",
      "Iteration 41: Best cost = 14.866068747318506\n",
      "Iteration 42: Best cost = 14.866068747318506\n",
      "Iteration 43: Best cost = 14.866068747318506\n",
      "Iteration 44: Best cost = 14.866068747318506\n",
      "Iteration 45: Best cost = 14.866068747318506\n",
      "Iteration 46: Best cost = 14.866068747318506\n",
      "Iteration 47: Best cost = 14.866068747318506\n",
      "Iteration 48: Best cost = 14.866068747318506\n",
      "Iteration 49: Best cost = 14.866068747318506\n",
      "Iteration 50: Best cost = 14.866068747318506\n",
      "Iteration 51: Best cost = 14.866068747318506\n",
      "Iteration 52: Best cost = 14.866068747318506\n",
      "Iteration 53: Best cost = 14.866068747318506\n",
      "Iteration 54: Best cost = 14.866068747318506\n",
      "Iteration 55: Best cost = 14.866068747318506\n",
      "Iteration 56: Best cost = 14.866068747318506\n",
      "Iteration 57: Best cost = 14.866068747318506\n",
      "Iteration 58: Best cost = 14.866068747318506\n",
      "Iteration 59: Best cost = 14.866068747318506\n",
      "Iteration 60: Best cost = 14.866068747318506\n",
      "Iteration 61: Best cost = 14.866068747318506\n",
      "Iteration 62: Best cost = 14.866068747318506\n",
      "Iteration 63: Best cost = 14.866068747318506\n",
      "Iteration 64: Best cost = 14.866068747318506\n",
      "Iteration 65: Best cost = 14.866068747318506\n",
      "Iteration 66: Best cost = 14.866068747318506\n",
      "Iteration 67: Best cost = 14.866068747318506\n",
      "Iteration 68: Best cost = 14.866068747318506\n",
      "Iteration 69: Best cost = 14.866068747318506\n",
      "Iteration 70: Best cost = 14.866068747318506\n",
      "Iteration 71: Best cost = 14.866068747318506\n",
      "Iteration 72: Best cost = 14.866068747318506\n",
      "Iteration 73: Best cost = 14.866068747318506\n",
      "Iteration 74: Best cost = 14.866068747318506\n",
      "Iteration 75: Best cost = 14.866068747318506\n",
      "Iteration 76: Best cost = 14.866068747318506\n",
      "Iteration 77: Best cost = 14.866068747318506\n",
      "Iteration 78: Best cost = 14.866068747318506\n",
      "Iteration 79: Best cost = 14.866068747318506\n",
      "Iteration 80: Best cost = 14.866068747318506\n",
      "Iteration 81: Best cost = 14.866068747318506\n",
      "Iteration 82: Best cost = 14.866068747318506\n",
      "Iteration 83: Best cost = 14.866068747318506\n",
      "Iteration 84: Best cost = 14.866068747318506\n",
      "Iteration 85: Best cost = 14.866068747318506\n",
      "Iteration 86: Best cost = 14.866068747318506\n",
      "Iteration 87: Best cost = 14.866068747318506\n",
      "Iteration 88: Best cost = 14.866068747318506\n",
      "Iteration 89: Best cost = 14.866068747318506\n",
      "Iteration 90: Best cost = 14.866068747318506\n",
      "Iteration 91: Best cost = 14.866068747318506\n",
      "Iteration 92: Best cost = 14.866068747318506\n",
      "Iteration 93: Best cost = 14.866068747318506\n",
      "Iteration 94: Best cost = 14.866068747318506\n",
      "Iteration 95: Best cost = 14.866068747318506\n",
      "Iteration 96: Best cost = 14.866068747318506\n",
      "Iteration 97: Best cost = 14.866068747318506\n",
      "Iteration 98: Best cost = 14.866068747318506\n",
      "Iteration 99: Best cost = 14.866068747318506\n",
      "Iteration 100: Best cost = 14.866068747318506\n"
     ]
    }
   ],
   "source": [
    "popSize = 50\n",
    "numGenerations = 100\n",
    "\n",
    "def geneticAlgorithm(model, popSize, numGenerations):\n",
    "    \n",
    "    population = []\n",
    "    \n",
    "    for i in range(0, popSize):\n",
    "        solution = createRandomSolution(model)\n",
    "        population.append(solution)\n",
    "    \n",
    "    bestCost = float('inf')\n",
    "    bestSolution = []\n",
    "    costs = []\n",
    "    \n",
    "    for gen in range(numGenerations):\n",
    "        \n",
    "        newPopulation = []\n",
    "        populationFitness = [TourLength(sol, model) + 1e-6 for sol in population]\n",
    "        \n",
    "        for i in range(0, popSize):\n",
    "            \n",
    "            parent_index = rouletteWheelSelection(populationFitness)\n",
    "            parent = population[parent_index]\n",
    "            child = list(parent)\n",
    "\n",
    "            \n",
    "            # apply mutation\n",
    "            mutationMethod = rouletteWheelSelection([0.33, 0.33, 0.34])\n",
    "            \n",
    "            if mutationMethod == 0:\n",
    "                child = swapMutation(child)\n",
    "            elif mutationMethod == 1:\n",
    "                child = reversionMutation(child)\n",
    "            else:\n",
    "                child = insertionMutation(child)\n",
    "            \n",
    "            newPopulation.append(child)\n",
    "            populationFitness.append(1 / TourLength(child, model))\n",
    "            \n",
    "            # update best cost and solution\n",
    "            cost = TourLength(child, model)\n",
    "            if cost < bestCost:\n",
    "                bestCost = cost\n",
    "                bestSolution = child\n",
    "            \n",
    "        population = newPopulation\n",
    "        \n",
    "        costs.append(bestCost)\n",
    "    \n",
    "    return costs, bestSolution\n",
    "\n",
    "model = tsp()\n",
    "\n",
    "bestCost, bestSolution = geneticAlgorithm(model, popSize, numGenerations)\n",
    "\n",
    "\n",
    "for gen in range(numGenerations):\n",
    "    print(f\"Iteration {gen+1}: Best cost = {bestCost[gen]}\")\n"
   ]
  },
  {
   "cell_type": "code",
   "execution_count": null,
   "id": "36501d91",
   "metadata": {},
   "outputs": [],
   "source": []
  },
  {
   "cell_type": "markdown",
   "id": "727b1498",
   "metadata": {},
   "source": [
    "### Results"
   ]
  },
  {
   "cell_type": "code",
   "execution_count": 82,
   "id": "2a19e019",
   "metadata": {},
   "outputs": [
    {
     "data": {
      "image/png": "[encoded data removed]",
      "text/plain": [
       "<Figure size 640x480 with 1 Axes>"
      ]
     },
     "metadata": {},
     "output_type": "display_data"
    }
   ],
   "source": [
    "# plot results\n",
    "plt.plot(bestCost)\n",
    "plt.title('Best Cost per Generation')\n",
    "plt.xlabel('Solution')\n",
    "plt.ylabel('Best Cost')\n",
    "plt.show()\n"
   ]
  }
 ],
 "metadata": {
  "kernelspec": {
   "display_name": "base",
   "language": "python",
   "name": "python3"
  },
  "language_info": {
   "codemirror_mode": {
    "name": "ipython",
    "version": 3
   },
   "file_extension": ".py",
   "mimetype": "text/x-python",
   "name": "python",
   "nbconvert_exporter": "python",
   "pygments_lexer": "ipython3",
   "version": "3.8.8"
  },
  "vscode": {
   "interpreter": {
    "hash": "88279d2366fe020547cde40dd65aa0e3aa662a6ec1f3ca12d88834876c85e1a6"
   }
  }
 },
 "nbformat": 4,
 "nbformat_minor": 5
}
