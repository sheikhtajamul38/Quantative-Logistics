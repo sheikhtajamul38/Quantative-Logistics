{
 "cells": [
  {
   "attachments": {},
   "cell_type": "markdown",
   "id": "c3671993",
   "metadata": {},
   "source": [
    "# HW2 - Applied Quantitative Logistics\n",
    "\n",
    "Let's consider cargo transportation between two countries. We have a set of containers with different weights. Our goal is to minimize the number of shipments between two countries to minimize the cost of the system.\n",
    "\n",
    "In this problem, our ships have a limited capacity to load containers for each shipment. Try to minimize the system by a Brute Force Algorithm and find the solution.\n",
    "\n",
    "\n",
    "\n",
    "Instruction for submission:\n",
    "\n",
    "- Please submit your solutions in (.ipynb) format to my email (msohrabi@hse.ru).\n",
    "\n",
    "- Deadline: **February 10, 2023, 11:59 pm.**\n",
    "\n",
    "- The subject of the email: **[HW2_AQL]-YOUR_NAME**"
   ]
  },
  {
   "cell_type": "code",
   "execution_count": 1,
   "id": "959fca76",
   "metadata": {},
   "outputs": [],
   "source": [
    "# cargo dictionary - contains the list of the containers to be moved by ship and the weight\n",
    "\n",
    "cargo = {'Continer1': 19,\n",
    " 'Continer2': 29,\n",
    " 'Continer3': 43,\n",
    " 'Continer4': 45,\n",
    " 'Continer5': 32,\n",
    " 'Continer6': 22,\n",
    " 'Continer7': 51,\n",
    " 'Continer8': 65,\n",
    " 'Continer9': 31,\n",
    " 'Continer10': 13,\n",
    " 'Continer11': 62}\n",
    "\n",
    "# shipment_limit - the maximum weight for the shipment by a ship\n",
    "shipment_limit = 80     "
   ]
  },
  {
   "cell_type": "code",
   "execution_count": 2,
   "id": "0215d097",
   "metadata": {},
   "outputs": [
    {
     "name": "stdout",
     "output_type": "stream",
     "text": [
      "Total shipments: 6\n",
      "Shipments order: [(29, 51), (13, 22, 45), (32, 43), (65,), (62,), (19, 31)]\n"
     ]
    }
   ],
   "source": [
    "from itertools import chain, combinations\n",
    "#Function to generate all possible combinations of the weight of containers\n",
    "def gen_combinations(cargo):\n",
    "    return chain.from_iterable(combinations(list(cargo), r) for r in range(len(list(cargo))+1))\n",
    "\n",
    "\n",
    "\n",
    "#Function to minimize the number of shipments from country A to B\n",
    "def ship_from_country(cargo):\n",
    "    \"\"\"\n",
    "    ships:  store shipment combinations-> List\n",
    "    max_wt: init maximum weight to minimum number-> int\n",
    "    result: resultant combination satisfying the shipment condition \n",
    "    \"\"\"\n",
    "\n",
    "    ships = []\n",
    "    while cargo: #traverse until all the containers are shipped\n",
    "        result = []\n",
    "        max_wt = 0  \n",
    "        for comb in gen_combinations(sorted(cargo)): #traverse until all the combinations are completed\n",
    "\n",
    "            if sum(comb)<= shipment_limit and sum(comb)>max_wt: \n",
    "                max_wt = sum(comb)\n",
    "                result = comb\n",
    "        ships.append(result)\n",
    "        for a in result:\n",
    "            cargo.remove(a)\n",
    "    return ships\n",
    "\n",
    "if __name__ == \"__main__\":\n",
    "\n",
    "    cargo_values = list(cargo.values())\n",
    "\n",
    "    final_ships = ship_from_country(cargo_values)\n",
    "    print(\"Total shipments:\", len(final_ships))\n",
    "    print(\"Shipments order:\", final_ships)\n"
   ]
  },
  {
   "cell_type": "code",
   "execution_count": 3,
   "id": "ad2277ae",
   "metadata": {},
   "outputs": [
    {
     "name": "stdout",
     "output_type": "stream",
     "text": [
      "Total shipments: 6\n",
      "Shipments order: [(29, 51), (13, 22, 45), (32, 43), (19, 19, 31), (65,), (62,)]\n"
     ]
    }
   ],
   "source": [
    "#shipment order on duplicates\n",
    "cargo_values = list(cargo.values())\n",
    "cargo_values.append(19)\n",
    "final_ships = ship_from_country(cargo_values)\n",
    "print(\"Total shipments:\", len(final_ships))\n",
    "print(\"Shipments order:\", final_ships)"
   ]
  }
 ],
 "metadata": {
  "kernelspec": {
   "display_name": "base",
   "language": "python",
   "name": "python3"
  },
  "language_info": {
   "codemirror_mode": {
    "name": "ipython",
    "version": 3
   },
   "file_extension": ".py",
   "mimetype": "text/x-python",
   "name": "python",
   "nbconvert_exporter": "python",
   "pygments_lexer": "ipython3",
   "version": "3.8.8"
  },
  "vscode": {
   "interpreter": {
    "hash": "88279d2366fe020547cde40dd65aa0e3aa662a6ec1f3ca12d88834876c85e1a6"
   }
  }
 },
 "nbformat": 4,
 "nbformat_minor": 5
}
