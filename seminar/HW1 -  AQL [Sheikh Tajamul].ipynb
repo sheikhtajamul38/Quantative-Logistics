{
 "cells": [
  {
   "cell_type": "markdown",
   "id": "66755134",
   "metadata": {},
   "source": [
    "# HW1 - Applied Quantitative Logistics\n",
    "\n",
    "## Definitions\n",
    "\n",
    "**Brute Force:** straightforward methods of solving a problem that rely on sheer computing power and trying every possibility rather than advanced techniques to improve efficiency. [link](https://textbooks.cs.ksu.edu/cc310/4-data-structures-and-algorithms/12-brute-force/#:~:text=Simply%20put%2C%20a%20brute%20force,over%20and%20try%20the%20other.)\n",
    "\n",
    "- A brute force algorithm solves a problem through exhaustion: it goes through all possible choices until a solution is found.\n",
    "\n",
    "- The time complexity of a brute force algorithm is often proportional to the input size.\n",
    "\n",
    "- Brute force algorithms are simple and consistent, but very slow.\n",
    "\n",
    "Instruction for submission:\n",
    "\n",
    "- Please submit your solutions in (.ipynb) format to my email (msohrabi@hse.ru).\n",
    "\n",
    "- Deadline: **February 3, 2023, 11:59 pm.**\n",
    "\n",
    "- The subject of the email: **[HW1_AQL]-YOUR_NAME**"
   ]
  },
  {
   "cell_type": "code",
   "execution_count": 33,
   "id": "c8aa7a0c",
   "metadata": {},
   "outputs": [],
   "source": [
    "import pandas as pd\n",
    "\n"
   ]
  },
  {
   "cell_type": "markdown",
   "id": "b7974257",
   "metadata": {},
   "source": [
    "### Requirements"
   ]
  },
  {
   "cell_type": "code",
   "execution_count": 34,
   "id": "42292e23",
   "metadata": {},
   "outputs": [
    {
     "data": {
      "text/html": [
       "<div>\n",
       "<style scoped>\n",
       "    .dataframe tbody tr th:only-of-type {\n",
       "        vertical-align: middle;\n",
       "    }\n",
       "\n",
       "    .dataframe tbody tr th {\n",
       "        vertical-align: top;\n",
       "    }\n",
       "\n",
       "    .dataframe thead th {\n",
       "        text-align: right;\n",
       "    }\n",
       "</style>\n",
       "<table border=\"1\" class=\"dataframe\">\n",
       "  <thead>\n",
       "    <tr style=\"text-align: right;\">\n",
       "      <th></th>\n",
       "      <th>ID</th>\n",
       "      <th>Name</th>\n",
       "    </tr>\n",
       "  </thead>\n",
       "  <tbody>\n",
       "    <tr>\n",
       "      <th>0</th>\n",
       "      <td>1</td>\n",
       "      <td>A</td>\n",
       "    </tr>\n",
       "    <tr>\n",
       "      <th>1</th>\n",
       "      <td>2</td>\n",
       "      <td>B</td>\n",
       "    </tr>\n",
       "    <tr>\n",
       "      <th>2</th>\n",
       "      <td>3</td>\n",
       "      <td>C</td>\n",
       "    </tr>\n",
       "    <tr>\n",
       "      <th>3</th>\n",
       "      <td>4</td>\n",
       "      <td>D</td>\n",
       "    </tr>\n",
       "    <tr>\n",
       "      <th>4</th>\n",
       "      <td>5</td>\n",
       "      <td>E</td>\n",
       "    </tr>\n",
       "  </tbody>\n",
       "</table>\n",
       "</div>"
      ],
      "text/plain": [
       "   ID Name\n",
       "0   1    A\n",
       "1   2    B\n",
       "2   3    C\n",
       "3   4    D\n",
       "4   5    E"
      ]
     },
     "execution_count": 34,
     "metadata": {},
     "output_type": "execute_result"
    }
   ],
   "source": [
    "df_resources = pd.DataFrame([[1, \"A\"], [2, \"B\"], [3, \"C\"],\n",
    "                             [4, \"D\"],[5, \"E\"]], columns=[\"ID\", \"Name\"])\n",
    "df_resources"
   ]
  },
  {
   "cell_type": "code",
   "execution_count": 35,
   "id": "5b32ade7",
   "metadata": {},
   "outputs": [
    {
     "data": {
      "text/html": [
       "<div>\n",
       "<style scoped>\n",
       "    .dataframe tbody tr th:only-of-type {\n",
       "        vertical-align: middle;\n",
       "    }\n",
       "\n",
       "    .dataframe tbody tr th {\n",
       "        vertical-align: top;\n",
       "    }\n",
       "\n",
       "    .dataframe thead th {\n",
       "        text-align: right;\n",
       "    }\n",
       "</style>\n",
       "<table border=\"1\" class=\"dataframe\">\n",
       "  <thead>\n",
       "    <tr style=\"text-align: right;\">\n",
       "      <th></th>\n",
       "      <th>ID</th>\n",
       "      <th>Name</th>\n",
       "      <th>Start_Time</th>\n",
       "      <th>End_Time</th>\n",
       "    </tr>\n",
       "  </thead>\n",
       "  <tbody>\n",
       "    <tr>\n",
       "      <th>0</th>\n",
       "      <td>1</td>\n",
       "      <td>a</td>\n",
       "      <td>10.05.2020</td>\n",
       "      <td>15.05.2020</td>\n",
       "    </tr>\n",
       "    <tr>\n",
       "      <th>1</th>\n",
       "      <td>2</td>\n",
       "      <td>b</td>\n",
       "      <td>13.05.2020</td>\n",
       "      <td>27.07.2020</td>\n",
       "    </tr>\n",
       "    <tr>\n",
       "      <th>2</th>\n",
       "      <td>3</td>\n",
       "      <td>c</td>\n",
       "      <td>08.07.2020</td>\n",
       "      <td>30.07.2020</td>\n",
       "    </tr>\n",
       "    <tr>\n",
       "      <th>3</th>\n",
       "      <td>4</td>\n",
       "      <td>d</td>\n",
       "      <td>11.12.2020</td>\n",
       "      <td>29.12.2020</td>\n",
       "    </tr>\n",
       "    <tr>\n",
       "      <th>4</th>\n",
       "      <td>5</td>\n",
       "      <td>e</td>\n",
       "      <td>06.11.2020</td>\n",
       "      <td>07.11.2020</td>\n",
       "    </tr>\n",
       "  </tbody>\n",
       "</table>\n",
       "</div>"
      ],
      "text/plain": [
       "   ID Name  Start_Time    End_Time\n",
       "0   1    a  10.05.2020  15.05.2020\n",
       "1   2    b  13.05.2020  27.07.2020\n",
       "2   3    c  08.07.2020  30.07.2020\n",
       "3   4    d  11.12.2020  29.12.2020\n",
       "4   5    e  06.11.2020  07.11.2020"
      ]
     },
     "execution_count": 35,
     "metadata": {},
     "output_type": "execute_result"
    }
   ],
   "source": [
    "df_projects = pd.DataFrame([[1, \"a\", \"10.05.2020\", \"15.05.2020\"], [2, \"b\", \"13.05.2020\", \"27.07.2020\"],\n",
    "                            [3, \"c\", \"08.07.2020\", \"30.07.2020\"], [4, \"d\", \"11.12.2020\", \"29.12.2020\"],\n",
    "                            [5, \"e\", \"06.11.2020\", \"07.11.2020\"]], \n",
    "                           columns=[\"ID\", \"Name\", \"Start_Time\", \"End_Time\"])\n",
    "                           \n",
    "df_projects"
   ]
  },
  {
   "cell_type": "code",
   "execution_count": 36,
   "id": "299d9345",
   "metadata": {},
   "outputs": [
    {
     "data": {
      "text/html": [
       "<div>\n",
       "<style scoped>\n",
       "    .dataframe tbody tr th:only-of-type {\n",
       "        vertical-align: middle;\n",
       "    }\n",
       "\n",
       "    .dataframe tbody tr th {\n",
       "        vertical-align: top;\n",
       "    }\n",
       "\n",
       "    .dataframe thead th {\n",
       "        text-align: right;\n",
       "    }\n",
       "</style>\n",
       "<table border=\"1\" class=\"dataframe\">\n",
       "  <thead>\n",
       "    <tr style=\"text-align: right;\">\n",
       "      <th></th>\n",
       "      <th>ID</th>\n",
       "      <th>ID_res</th>\n",
       "      <th>ID_pro</th>\n",
       "    </tr>\n",
       "  </thead>\n",
       "  <tbody>\n",
       "    <tr>\n",
       "      <th>0</th>\n",
       "      <td>1</td>\n",
       "      <td>1</td>\n",
       "      <td>1</td>\n",
       "    </tr>\n",
       "    <tr>\n",
       "      <th>1</th>\n",
       "      <td>2</td>\n",
       "      <td>5</td>\n",
       "      <td>3</td>\n",
       "    </tr>\n",
       "    <tr>\n",
       "      <th>2</th>\n",
       "      <td>3</td>\n",
       "      <td>2</td>\n",
       "      <td>4</td>\n",
       "    </tr>\n",
       "    <tr>\n",
       "      <th>3</th>\n",
       "      <td>4</td>\n",
       "      <td>4</td>\n",
       "      <td>5</td>\n",
       "    </tr>\n",
       "    <tr>\n",
       "      <th>4</th>\n",
       "      <td>5</td>\n",
       "      <td>3</td>\n",
       "      <td>2</td>\n",
       "    </tr>\n",
       "    <tr>\n",
       "      <th>5</th>\n",
       "      <td>6</td>\n",
       "      <td>2</td>\n",
       "      <td>1</td>\n",
       "    </tr>\n",
       "    <tr>\n",
       "      <th>6</th>\n",
       "      <td>7</td>\n",
       "      <td>3</td>\n",
       "      <td>1</td>\n",
       "    </tr>\n",
       "    <tr>\n",
       "      <th>7</th>\n",
       "      <td>8</td>\n",
       "      <td>2</td>\n",
       "      <td>2</td>\n",
       "    </tr>\n",
       "  </tbody>\n",
       "</table>\n",
       "</div>"
      ],
      "text/plain": [
       "   ID  ID_res  ID_pro\n",
       "0   1       1       1\n",
       "1   2       5       3\n",
       "2   3       2       4\n",
       "3   4       4       5\n",
       "4   5       3       2\n",
       "5   6       2       1\n",
       "6   7       3       1\n",
       "7   8       2       2"
      ]
     },
     "execution_count": 36,
     "metadata": {},
     "output_type": "execute_result"
    }
   ],
   "source": [
    "df_expertise = pd.DataFrame([[1, 1, 1], [2, 5, 3], [3, 2, 4], [4, 4, 5], [5, 3, 2], [6, 2, 1], [7, 3, 1], [8, 2, 2]],\n",
    "                           columns=[\"ID\", \"ID_res\", \"ID_pro\"])\n",
    "\n",
    "df_expertise"
   ]
  },
  {
   "cell_type": "markdown",
   "id": "92953041",
   "metadata": {},
   "source": [
    "### All Feasible Combinations"
   ]
  },
  {
   "cell_type": "code",
   "execution_count": 37,
   "id": "bb7cc031",
   "metadata": {},
   "outputs": [
    {
     "name": "stdout",
     "output_type": "stream",
     "text": [
      "{1: [1, 2, 3], 2: [3, 2], 3: [5], 4: [2], 5: [4]}\n"
     ]
    }
   ],
   "source": [
    "#using python dictionary to find the combinations\n",
    "#ID_pro as keys and ID_res as values\n",
    "mapping = dict()\n",
    "for index, row in df_expertise.iterrows():\n",
    "    #print(row['ID_pro'], row['ID_res'])\n",
    "    if row['ID_pro'] not in mapping:\n",
    "        mapping[row['ID_pro']] = [row['ID_res']]\n",
    "    else:\n",
    "        mapping[row['ID_pro']].append(row['ID_res'])\n",
    "\n",
    "#sorting based on ID_pro\n",
    "new_mapping = {}\n",
    "for i in sorted(mapping.keys()):\n",
    "    new_mapping[i] = mapping[i]\n",
    "print(new_mapping)\n",
    "\n"
   ]
  },
  {
   "cell_type": "code",
   "execution_count": 38,
   "id": "4b07b2c7",
   "metadata": {},
   "outputs": [
    {
     "name": "stdout",
     "output_type": "stream",
     "text": [
      "Possible combinations of resources: [(1, 3, 5, 2, 4), (1, 2, 5, 2, 4), (2, 3, 5, 2, 4), (2, 2, 5, 2, 4), (3, 3, 5, 2, 4), (3, 2, 5, 2, 4)]\n",
      "#########################  Allocation of resources after mapping with Projects  ###################################\n",
      "Allocated mapped resource 1: [(1, 1), (2, 3), (3, 5), (4, 2), (5, 4)]\n",
      "Allocated mapped resource 2: [(1, 1), (2, 2), (3, 5), (4, 2), (5, 4)]\n",
      "Allocated mapped resource 3: [(1, 2), (2, 3), (3, 5), (4, 2), (5, 4)]\n",
      "Allocated mapped resource 4: [(1, 2), (2, 2), (3, 5), (4, 2), (5, 4)]\n",
      "Allocated mapped resource 5: [(1, 3), (2, 3), (3, 5), (4, 2), (5, 4)]\n",
      "Allocated mapped resource 6: [(1, 3), (2, 2), (3, 5), (4, 2), (5, 4)]\n"
     ]
    }
   ],
   "source": [
    "import itertools as it\n",
    "#finding all possible combinations of resources\n",
    "resources = list(it.product(*new_mapping.values()))\n",
    "print(\"Possible combinations of resources:\", resources)\n",
    "map_projects = []\n",
    "for sol in resources:\n",
    "    proj = [(i, j) for i, j in zip(new_mapping.keys(), sol)]\n",
    "    map_projects.append(proj)\n",
    "print(\"#########################  Allocation of resources after mapping with Projects  ###################################\")\n",
    "#first item represents project id and 2nd represents resource\n",
    "for i,aloc in enumerate(map_projects):\n",
    "    print(\"Allocated mapped resource {0}: {1}\".format(i+1,aloc))"
   ]
  },
  {
   "cell_type": "code",
   "execution_count": null,
   "id": "313ee406",
   "metadata": {},
   "outputs": [],
   "source": []
  },
  {
   "cell_type": "markdown",
   "id": "f03a1557",
   "metadata": {},
   "source": [
    "### Brute Force - [Algorithm Name]"
   ]
  },
  {
   "cell_type": "code",
   "execution_count": 39,
   "id": "743af5bc",
   "metadata": {},
   "outputs": [
    {
     "data": {
      "text/html": [
       "<div>\n",
       "<style scoped>\n",
       "    .dataframe tbody tr th:only-of-type {\n",
       "        vertical-align: middle;\n",
       "    }\n",
       "\n",
       "    .dataframe tbody tr th {\n",
       "        vertical-align: top;\n",
       "    }\n",
       "\n",
       "    .dataframe thead th {\n",
       "        text-align: right;\n",
       "    }\n",
       "</style>\n",
       "<table border=\"1\" class=\"dataframe\">\n",
       "  <thead>\n",
       "    <tr style=\"text-align: right;\">\n",
       "      <th></th>\n",
       "      <th>ID</th>\n",
       "      <th>Name</th>\n",
       "      <th>Start_Time</th>\n",
       "      <th>End_Time</th>\n",
       "    </tr>\n",
       "  </thead>\n",
       "  <tbody>\n",
       "    <tr>\n",
       "      <th>0</th>\n",
       "      <td>1</td>\n",
       "      <td>a</td>\n",
       "      <td>2020-05-10</td>\n",
       "      <td>2020-05-15</td>\n",
       "    </tr>\n",
       "    <tr>\n",
       "      <th>1</th>\n",
       "      <td>2</td>\n",
       "      <td>b</td>\n",
       "      <td>2020-05-13</td>\n",
       "      <td>2020-07-27</td>\n",
       "    </tr>\n",
       "    <tr>\n",
       "      <th>2</th>\n",
       "      <td>3</td>\n",
       "      <td>c</td>\n",
       "      <td>2020-07-08</td>\n",
       "      <td>2020-07-30</td>\n",
       "    </tr>\n",
       "    <tr>\n",
       "      <th>3</th>\n",
       "      <td>4</td>\n",
       "      <td>d</td>\n",
       "      <td>2020-12-11</td>\n",
       "      <td>2020-12-29</td>\n",
       "    </tr>\n",
       "    <tr>\n",
       "      <th>4</th>\n",
       "      <td>5</td>\n",
       "      <td>e</td>\n",
       "      <td>2020-11-06</td>\n",
       "      <td>2020-11-07</td>\n",
       "    </tr>\n",
       "  </tbody>\n",
       "</table>\n",
       "</div>"
      ],
      "text/plain": [
       "   ID Name Start_Time   End_Time\n",
       "0   1    a 2020-05-10 2020-05-15\n",
       "1   2    b 2020-05-13 2020-07-27\n",
       "2   3    c 2020-07-08 2020-07-30\n",
       "3   4    d 2020-12-11 2020-12-29\n",
       "4   5    e 2020-11-06 2020-11-07"
      ]
     },
     "execution_count": 39,
     "metadata": {},
     "output_type": "execute_result"
    }
   ],
   "source": [
    "from datetime import datetime, time\n",
    "import collections\n",
    "def date_in_Seconds(dt1):\n",
    "    date1 = datetime.strptime(dt1, '%d.%m.%Y')\n",
    "    return date1\n",
    "\n",
    "df_projects['Start_Time'] = df_projects.apply(lambda x: date_in_Seconds(x.Start_Time), axis=1)\n",
    "df_projects['End_Time'] = df_projects.apply(lambda x: date_in_Seconds(x.End_Time), axis=1)\n",
    "df_projects\n",
    "\n",
    "\n"
   ]
  },
  {
   "cell_type": "code",
   "execution_count": 40,
   "id": "4d0db7b7",
   "metadata": {},
   "outputs": [],
   "source": [
    "#store combinations with no overlap\n",
    "no_overlap = []\n",
    "#check project ID for the corresponding resource ID\n",
    "def check_projects(map,dup_val):\n",
    "    check = []\n",
    "    for i,(proj,res) in enumerate(map):\n",
    "        if res == dup_val:\n",
    "            check.append(proj)\n",
    "    return check\n"
   ]
  },
  {
   "cell_type": "code",
   "execution_count": 41,
   "id": "41c9e164",
   "metadata": {},
   "outputs": [],
   "source": [
    "for map in map_projects:\n",
    "    resources = [res for proj, res in map]\n",
    "    #find duplicates in the resource\n",
    "    duplicates = [item for item, count in collections.Counter(resources).items() if count > 1]\n",
    "    flag = 1\n",
    "    for dup in duplicates:\n",
    "        #find corresponding projects\n",
    "        check_prefix = check_projects(map,dup)\n",
    "        for i in range(len(check_prefix)):\n",
    "            for j in range(i+1, len(check_prefix)):\n",
    "                #find start and end date of projects\n",
    "                st1= df_projects.loc[df_projects['ID'] == check_prefix[i], ['Start_Time','End_Time']].iloc[0][0]\n",
    "                et1 = df_projects.loc[df_projects['ID'] == check_prefix[i], ['Start_Time','End_Time']].iloc[0][1]\n",
    "                st2= df_projects.loc[df_projects['ID'] == check_prefix[j], ['Start_Time','End_Time']].iloc[0][0]\n",
    "                et2 = df_projects.loc[df_projects['ID'] == check_prefix[j], ['Start_Time','End_Time']].iloc[0][1]\n",
    "                \n",
    "                st1,et1 = datetime.strptime(str(st1),\"%Y-%m-%d %H:%M:%S\"), datetime.strptime(str(et1),\"%Y-%m-%d %H:%M:%S\")\n",
    "                st2,et2 = datetime.strptime(str(st2),\"%Y-%m-%d %H:%M:%S\"), datetime.strptime(str(et2),\"%Y-%m-%d %H:%M:%S\")\n",
    "\n",
    "                #compare dates\n",
    "                \n",
    "                if (st1 <= et2) & (st2<= et1):\n",
    "                        \n",
    "                    flag = 0\n",
    "                    break \n",
    "    \n",
    "    if flag:\n",
    "        #update non overlapped solutions\n",
    "        no_overlap.append(map)"
   ]
  },
  {
   "cell_type": "code",
   "execution_count": null,
   "id": "4146e6f8",
   "metadata": {},
   "outputs": [],
   "source": []
  },
  {
   "cell_type": "markdown",
   "id": "568fe40c",
   "metadata": {},
   "source": [
    "### Print the Solutions"
   ]
  },
  {
   "cell_type": "code",
   "execution_count": 42,
   "id": "5c15c7bc",
   "metadata": {},
   "outputs": [
    {
     "name": "stdout",
     "output_type": "stream",
     "text": [
      "Non overlapped solution 1: [(1, 1), (2, 3), (3, 5), (4, 2), (5, 4)]\n",
      "Non overlapped solution 2: [(1, 1), (2, 2), (3, 5), (4, 2), (5, 4)]\n",
      "Non overlapped solution 3: [(1, 2), (2, 3), (3, 5), (4, 2), (5, 4)]\n",
      "Non overlapped solution 4: [(1, 3), (2, 2), (3, 5), (4, 2), (5, 4)]\n"
     ]
    }
   ],
   "source": [
    "#printing all the non overlapped solutions\n",
    "#inside the tuple first element represents proj_ID and 2nd element represents res_ID\n",
    "for i,sol in enumerate(no_overlap):\n",
    "    print(\"Non overlapped solution {0}: {1}\".format(i+1,sol)) "
   ]
  }
 ],
 "metadata": {
  "kernelspec": {
   "display_name": "base",
   "language": "python",
   "name": "python3"
  },
  "language_info": {
   "codemirror_mode": {
    "name": "ipython",
    "version": 3
   },
   "file_extension": ".py",
   "mimetype": "text/x-python",
   "name": "python",
   "nbconvert_exporter": "python",
   "pygments_lexer": "ipython3",
   "version": "3.8.8"
  },
  "vscode": {
   "interpreter": {
    "hash": "88279d2366fe020547cde40dd65aa0e3aa662a6ec1f3ca12d88834876c85e1a6"
   }
  }
 },
 "nbformat": 4,
 "nbformat_minor": 5
}
